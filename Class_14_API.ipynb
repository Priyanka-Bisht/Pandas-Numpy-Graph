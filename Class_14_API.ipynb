{
 "cells": [
  {
   "cell_type": "markdown",
   "id": "a3bec1fa",
   "metadata": {},
   "source": [
    "https://github.com/sudh9931/api/blob/main/api"
   ]
  },
  {
   "cell_type": "markdown",
   "id": "dc368016",
   "metadata": {},
   "source": [
    "API - application progarmming interface. "
   ]
  },
  {
   "cell_type": "markdown",
   "id": "d730fc76",
   "metadata": {},
   "source": [
    "task - https://github.com/sudh9931/task/blob/main/task"
   ]
  },
  {
   "cell_type": "code",
   "execution_count": null,
   "id": "8e3fd34b",
   "metadata": {},
   "outputs": [],
   "source": []
  }
 ],
 "metadata": {
  "kernelspec": {
   "display_name": "Python 3",
   "language": "python",
   "name": "python3"
  },
  "language_info": {
   "codemirror_mode": {
    "name": "ipython",
    "version": 3
   },
   "file_extension": ".py",
   "mimetype": "text/x-python",
   "name": "python",
   "nbconvert_exporter": "python",
   "pygments_lexer": "ipython3",
   "version": "3.8.8"
  }
 },
 "nbformat": 4,
 "nbformat_minor": 5
}
